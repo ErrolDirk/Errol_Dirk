{
 "cells": [
  {
   "cell_type": "code",
   "execution_count": 162,
   "metadata": {},
   "outputs": [],
   "source": [
    "arr=[0, 2, 3, 4, 1, 6, 5]\n"
   ]
  },
  {
   "cell_type": "code",
   "execution_count": 163,
   "metadata": {},
   "outputs": [],
   "source": [
    "def arrstartAtZero(arr):\n",
    "        minarr = min(arr)\n",
    "        for i, value in enumerate (arr):\n",
    "            arr[i] = value - minarr\n",
    "        return arr\n",
    "    \n",
    "def minimumSwaps(arr):\n",
    "       \n",
    "    arr = arrstartAtZero(arr)\n",
    "    counter=0\n",
    "    length = len(arr)\n",
    "    checked = [False] * length\n",
    "    arr_dict = {}\n",
    "    c_count=0\n",
    "    \n",
    "    for i, value in enumerate (arr):\n",
    "        arr_dict[value]= i\n",
    "        \n",
    "        \n",
    "    for key, value in sorted (arr_dict.items()):\n",
    "        \n",
    "        \n",
    "        if checked[key] or key==value:\n",
    "            continue\n",
    "        else:\n",
    "            c_count=0\n",
    "            value = key\n",
    "\n",
    "            while not checked[value]:\n",
    "                checked[value]=True\n",
    "                value = arr_dict[value]\n",
    "                c_count +=1\n",
    "\n",
    "        counter+= c_count-1\n",
    "        \n",
    "    return counter\n"
   ]
  },
  {
   "cell_type": "code",
   "execution_count": 164,
   "metadata": {},
   "outputs": [
    {
     "data": {
      "text/plain": [
       "4"
      ]
     },
     "execution_count": 164,
     "metadata": {},
     "output_type": "execute_result"
    }
   ],
   "source": [
    "minimumSwaps(arr)"
   ]
  }
 ],
 "metadata": {
  "kernelspec": {
   "display_name": "Python 3",
   "language": "python",
   "name": "python3"
  },
  "language_info": {
   "codemirror_mode": {
    "name": "ipython",
    "version": 3
   },
   "file_extension": ".py",
   "mimetype": "text/x-python",
   "name": "python",
   "nbconvert_exporter": "python",
   "pygments_lexer": "ipython3",
   "version": "3.7.0"
  }
 },
 "nbformat": 4,
 "nbformat_minor": 2
}
