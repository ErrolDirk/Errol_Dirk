{
 "cells": [
  {
   "cell_type": "code",
   "execution_count": 95,
   "metadata": {},
   "outputs": [],
   "source": [
    "q = [2, 5, 1, 3, 4]"
   ]
  },
  {
   "cell_type": "code",
   "execution_count": 140,
   "metadata": {},
   "outputs": [
    {
     "name": "stdout",
     "output_type": "stream",
     "text": [
      "Too chaotic\n",
      "3\n"
     ]
    }
   ],
   "source": [
    "nswap = 0\n",
    "for i in range(len(q)):\n",
    "    if q[i] - (i + 1) > 2:\n",
    "        print('Too chaotic')\n",
    "     \n",
    "    for j in range(max(0, q[i]-2 ),i):\n",
    "        if q[j] > q[i]:\n",
    "            nswap+=1\n",
    "            \n",
    "print(nswap)"
   ]
  }
 ],
 "metadata": {
  "kernelspec": {
   "display_name": "Python 3",
   "language": "python",
   "name": "python3"
  },
  "language_info": {
   "codemirror_mode": {
    "name": "ipython",
    "version": 3
   },
   "file_extension": ".py",
   "mimetype": "text/x-python",
   "name": "python",
   "nbconvert_exporter": "python",
   "pygments_lexer": "ipython3",
   "version": "3.7.0"
  }
 },
 "nbformat": 4,
 "nbformat_minor": 2
}
