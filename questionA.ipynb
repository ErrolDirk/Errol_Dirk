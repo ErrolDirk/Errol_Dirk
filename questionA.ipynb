{
 "cells": [
  {
   "cell_type": "code",
   "execution_count": 41,
   "metadata": {},
   "outputs": [],
   "source": [
    "def line(l1, l2):\n",
    "    x1=l1[0]\n",
    "    x2=l1[1]\n",
    "    x3=l2[0]\n",
    "    x4=l2[1]\n",
    "    \n",
    "    \n",
    "    if x3>x2:\n",
    "        return \" Lines don't overlap\"\n",
    "    elif x3==x2: \n",
    "        return \"Lines intersect at \", x2\n",
    "    else: return \"Lines overlap\"\n",
    "    \n",
    "    "
   ]
  },
  {
   "cell_type": "code",
   "execution_count": 42,
   "metadata": {},
   "outputs": [
    {
     "data": {
      "text/plain": [
       "\" Lines don't overlap\""
      ]
     },
     "execution_count": 42,
     "metadata": {},
     "output_type": "execute_result"
    }
   ],
   "source": [
    "line ([1,5],[6,8])"
   ]
  }
 ],
 "metadata": {
  "kernelspec": {
   "display_name": "Python 3",
   "language": "python",
   "name": "python3"
  },
  "language_info": {
   "codemirror_mode": {
    "name": "ipython",
    "version": 3
   },
   "file_extension": ".py",
   "mimetype": "text/x-python",
   "name": "python",
   "nbconvert_exporter": "python",
   "pygments_lexer": "ipython3",
   "version": "3.7.0"
  }
 },
 "nbformat": 4,
 "nbformat_minor": 2
}
