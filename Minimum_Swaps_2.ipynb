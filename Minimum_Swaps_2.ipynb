{
 "cells": [
  {
   "cell_type": "code",
   "execution_count": 2,
   "metadata": {},
   "outputs": [],
   "source": [
    "q = [2, 5, 1, 3, 4]"
   ]
  },
  {
   "cell_type": "code",
   "execution_count": 4,
   "metadata": {},
   "outputs": [
    {
     "name": "stdout",
     "output_type": "stream",
     "text": [
      "Too chaotic\n",
      "3\n"
     ]
    }
   ],
   "source": [
    "nswap = 0\n",
    "for i in range(len(q)):\n",
    "    if q[i] - (i + 1) > 2:\n",
    "        print('Too chaotic')\n",
    "     \n",
    "    for j in range(max(0, q[i]-2 ),i):\n",
    "        if q[j] > q[i]:\n",
    "            nswap+=1\n",
    "            \n",
    "print(nswap)"
   ]
  },
  {
   "cell_type": "code",
   "execution_count": 19,
   "metadata": {},
   "outputs": [
    {
     "name": "stdout",
     "output_type": "stream",
     "text": [
      "[9, 6, 4, 1, 0]\n"
     ]
    }
   ],
   "source": [
    "list = [\"1\", \"4\", \"0\", \"6\", \"9\"]\n",
    "list = [int(i) for i in list]\n",
    "list.sort()\n",
    "list.reverse()\n",
    "print (list)"
   ]
  }
 ],
 "metadata": {
  "kernelspec": {
   "display_name": "Python 3",
   "language": "python",
   "name": "python3"
  },
  "language_info": {
   "codemirror_mode": {
    "name": "ipython",
    "version": 3
   },
   "file_extension": ".py",
   "mimetype": "text/x-python",
   "name": "python",
   "nbconvert_exporter": "python",
   "pygments_lexer": "ipython3",
   "version": "3.7.0"
  }
 },
 "nbformat": 4,
 "nbformat_minor": 2
}
