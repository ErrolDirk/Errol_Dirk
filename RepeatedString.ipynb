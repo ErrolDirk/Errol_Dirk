{
 "cells": [
  {
   "cell_type": "code",
   "execution_count": 73,
   "metadata": {},
   "outputs": [
    {
     "data": {
      "text/plain": [
       "2"
      ]
     },
     "execution_count": 73,
     "metadata": {},
     "output_type": "execute_result"
    }
   ],
   "source": [
    "s= \"aba\"\n",
    "count=0\n",
    "\n",
    "for i in s:\n",
    "    if i==\"a\":\n",
    "        count+=1\n",
    "\n",
    "count"
   ]
  },
  {
   "cell_type": "code",
   "execution_count": 76,
   "metadata": {},
   "outputs": [],
   "source": [
    "s= \"aba\"\n",
    "n= 10"
   ]
  },
  {
   "cell_type": "code",
   "execution_count": 74,
   "metadata": {},
   "outputs": [
    {
     "data": {
      "text/plain": [
       "7"
      ]
     },
     "execution_count": 74,
     "metadata": {},
     "output_type": "execute_result"
    }
   ],
   "source": [
    "n= 10\n",
    "count2=0\n",
    "mod = n%len(s)\n",
    "if (mod)!=0:\n",
    "    \n",
    "    s2 = s[0:mod]\n",
    "    for i in s2:\n",
    "        if i==\"a\":\n",
    "            count2+=1\n",
    "\n",
    "    r = int(n/len(s))  \n",
    "    count = count *r + count2\n",
    "    \n",
    "    \n",
    "elif mod==0: \n",
    "    r = int(n/len(s))\n",
    "    count = count *r\n",
    "    \n",
    "\n",
    "count"
   ]
  },
  {
   "cell_type": "code",
   "execution_count": 72,
   "metadata": {},
   "outputs": [
    {
     "data": {
      "text/plain": [
       "'ab'"
      ]
     },
     "execution_count": 72,
     "metadata": {},
     "output_type": "execute_result"
    }
   ],
   "source": [
    "s[0:2]"
   ]
  },
  {
   "cell_type": "code",
   "execution_count": 54,
   "metadata": {},
   "outputs": [
    {
     "data": {
      "text/plain": [
       "3.3333333333333335"
      ]
     },
     "execution_count": 54,
     "metadata": {},
     "output_type": "execute_result"
    }
   ],
   "source": [
    "n/len(s)"
   ]
  },
  {
   "cell_type": "code",
   "execution_count": 78,
   "metadata": {},
   "outputs": [],
   "source": [
    "    count=0\n",
    "    count2=0\n",
    "    mod = n%len(s)\n",
    "\n",
    "    for i in s:\n",
    "        if i==\"a\":\n",
    "            count+=1\n",
    "\n",
    "\n",
    "    \n",
    "    if (mod)!=0:\n",
    "        \n",
    "        s2 = s[0:mod]\n",
    "        for i in s2:\n",
    "            if i==\"a\":\n",
    "                count2+=1\n",
    "\n",
    "        r = int(n/len(s))  \n",
    "        count = count *r + count2\n",
    "        \n",
    "        \n",
    "    elif mod==0: \n",
    "        r = int(n/len(s))\n",
    "        count = count *r\n",
    "    \n",
    "    \n",
    "   \n",
    "  "
   ]
  },
  {
   "cell_type": "code",
   "execution_count": 79,
   "metadata": {},
   "outputs": [
    {
     "data": {
      "text/plain": [
       "7"
      ]
     },
     "execution_count": 79,
     "metadata": {},
     "output_type": "execute_result"
    }
   ],
   "source": [
    "count"
   ]
  }
 ],
 "metadata": {
  "kernelspec": {
   "display_name": "Python 3",
   "language": "python",
   "name": "python3"
  },
  "language_info": {
   "codemirror_mode": {
    "name": "ipython",
    "version": 3
   },
   "file_extension": ".py",
   "mimetype": "text/x-python",
   "name": "python",
   "nbconvert_exporter": "python",
   "pygments_lexer": "ipython3",
   "version": "3.7.0"
  }
 },
 "nbformat": 4,
 "nbformat_minor": 2
}
