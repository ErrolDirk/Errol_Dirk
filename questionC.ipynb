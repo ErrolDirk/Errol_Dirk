{
 "cells": [
  {
   "cell_type": "code",
   "execution_count": 26,
   "metadata": {},
   "outputs": [],
   "source": [
    "class LRUCache:\n",
    "    def __init__(self, capacity):\n",
    "        self.capacity = capacity\n",
    "        self.tm = 0\n",
    "        self.cache = {}\n",
    "        self.lru = {}\n",
    "\n",
    "    def get(self, key):\n",
    "        if key in self.cache:\n",
    "            self.lru[key] = self.tm\n",
    "            self.tm += 1\n",
    "            return self.cache[key]\n",
    "        return -1\n",
    "\n",
    "    def set(self, key, value):\n",
    "        if len(self.cache) >= self.capacity:\n",
    "            # find the LRU entry\n",
    "            old_key = min(self.lru.keys(), key=lambda k:self.lru[k])\n",
    "            self.cache.pop(old_key)\n",
    "            self.lru.pop(old_key)\n",
    "        self.cache[key] = value\n",
    "        self.lru[key] = self.tm\n",
    "        self.tm += 1"
   ]
  },
  {
   "cell_type": "code",
   "execution_count": 28,
   "metadata": {},
   "outputs": [
    {
     "name": "stdout",
     "output_type": "stream",
     "text": [
      "-1\n"
     ]
    }
   ],
   "source": [
    "def do_some_query():\n",
    "    # Replace with actual querying code to a database,\n",
    "    # a remote REST API, etc.\n",
    "    return 42\n",
    "\n",
    "\n",
    "client = LRUCache(('localhost', 11211))\n",
    "result = client.get('some_key')\n",
    "\n",
    "if result is None:\n",
    "    # The cache is empty, need to get the value\n",
    "    # from the canonical source:\n",
    "    result = do_some_query()\n",
    "\n",
    "    # Cache the result for next time:\n",
    "    client.set('some_key', result)\n",
    "\n",
    "# Whether we needed to update the cache or not,\n",
    "# at this point you can work with the data\n",
    "# stored in the `result` variable:\n",
    "print(result)"
   ]
  }
 ],
 "metadata": {
  "kernelspec": {
   "display_name": "Python 3",
   "language": "python",
   "name": "python3"
  },
  "language_info": {
   "codemirror_mode": {
    "name": "ipython",
    "version": 3
   },
   "file_extension": ".py",
   "mimetype": "text/x-python",
   "name": "python",
   "nbconvert_exporter": "python",
   "pygments_lexer": "ipython3",
   "version": "3.7.0"
  }
 },
 "nbformat": 4,
 "nbformat_minor": 2
}
