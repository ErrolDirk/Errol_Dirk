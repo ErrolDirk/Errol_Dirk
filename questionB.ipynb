{
 "cells": [
  {
   "cell_type": "code",
   "execution_count": 1,
   "metadata": {},
   "outputs": [],
   "source": [
    "def stringcompare1(s1, s2):\n",
    "    if float(s1)>float(s2):\n",
    "        return s1,\" is greater than \", s2\n",
    "    elif float(s1)==float(s2):\n",
    "        return s1,\" is equal to \", s2\n",
    "    else: return s1,\" is lesser to \", s2\n",
    "    "
   ]
  },
  {
   "cell_type": "code",
   "execution_count": 5,
   "metadata": {},
   "outputs": [
    {
     "data": {
      "text/plain": [
       "('9', ' is equal to ', '9')"
      ]
     },
     "execution_count": 5,
     "metadata": {},
     "output_type": "execute_result"
    }
   ],
   "source": [
    "stringcompare1 ('9','9')"
   ]
  },
  {
   "cell_type": "code",
   "execution_count": 18,
   "metadata": {},
   "outputs": [],
   "source": [
    "def stringcompare2(s1, s2):\n",
    "    if s1>s2:\n",
    "        return s1,\" is greater than \", s2\n",
    "    elif s1==s2:\n",
    "        return s1,\" is equal to \", s2\n",
    "    else: return s1,\" is lesser to \", s2\n"
   ]
  },
  {
   "cell_type": "code",
   "execution_count": 22,
   "metadata": {},
   "outputs": [
    {
     "data": {
      "text/plain": [
       "('dd', ' is lesser to ', 'gb')"
      ]
     },
     "execution_count": 22,
     "metadata": {},
     "output_type": "execute_result"
    }
   ],
   "source": [
    "stringcompare2 ('dd','gb')"
   ]
  }
 ],
 "metadata": {
  "kernelspec": {
   "display_name": "Python 3",
   "language": "python",
   "name": "python3"
  },
  "language_info": {
   "codemirror_mode": {
    "name": "ipython",
    "version": 3
   },
   "file_extension": ".py",
   "mimetype": "text/x-python",
   "name": "python",
   "nbconvert_exporter": "python",
   "pygments_lexer": "ipython3",
   "version": "3.7.0"
  }
 },
 "nbformat": 4,
 "nbformat_minor": 2
}
